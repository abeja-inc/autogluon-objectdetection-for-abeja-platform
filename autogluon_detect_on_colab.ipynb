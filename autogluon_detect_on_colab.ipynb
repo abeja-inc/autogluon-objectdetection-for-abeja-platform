{
  "nbformat": 4,
  "nbformat_minor": 0,
  "metadata": {
    "colab": {
      "name": "autogluon_detect_on_colab.ipynb",
      "provenance": [],
      "collapsed_sections": []
    },
    "kernelspec": {
      "name": "python3",
      "display_name": "Python 3"
    },
    "accelerator": "GPU"
  },
  "cells": [
    {
      "cell_type": "code",
      "metadata": {
        "id": "Cj7upegmSGyc",
        "colab_type": "code",
        "colab": {}
      },
      "source": [
        "#GPUチェック\n",
        "!nvidia-smi"
      ],
      "execution_count": 0,
      "outputs": []
    },
    {
      "cell_type": "code",
      "metadata": {
        "id": "IOAIf6mETdbK",
        "colab_type": "code",
        "colab": {}
      },
      "source": [
        "#ABEJAコマンドのパッケージダウンロード\n",
        "! curl -s https://packagecloud.io/install/repositories/abeja/platform-public/script.python.sh | bash"
      ],
      "execution_count": 0,
      "outputs": []
    },
    {
      "cell_type": "code",
      "metadata": {
        "id": "T6YMRhb9SWQA",
        "colab_type": "code",
        "colab": {}
      },
      "source": [
        "pip install abejacli"
      ],
      "execution_count": 0,
      "outputs": []
    },
    {
      "cell_type": "code",
      "metadata": {
        "id": "Zap7ZAmISeHF",
        "colab_type": "code",
        "colab": {}
      },
      "source": [
        "# コマンドの設定\n",
        "! abeja config init"
      ],
      "execution_count": 0,
      "outputs": []
    },
    {
      "cell_type": "code",
      "metadata": {
        "id": "Xnt9MDPiZzWW",
        "colab_type": "code",
        "colab": {}
      },
      "source": [
        "!pip install --upgrade mxnet-cu100 tqdm"
      ],
      "execution_count": 0,
      "outputs": []
    },
    {
      "cell_type": "code",
      "metadata": {
        "id": "WY9xpRdfSmX2",
        "colab_type": "code",
        "colab": {}
      },
      "source": [
        "!pip install autogluon==0.0.8"
      ],
      "execution_count": 0,
      "outputs": []
    },
    {
      "cell_type": "markdown",
      "metadata": {
        "id": "OtS60YpQTCeh",
        "colab_type": "text"
      },
      "source": [
        "※　このタイミングでランタイムの再起動を実行する必要がある"
      ]
    },
    {
      "cell_type": "code",
      "metadata": {
        "id": "Bzw_pCW7ZYN6",
        "colab_type": "code",
        "colab": {}
      },
      "source": [
        "import autogluon as ag\n",
        "from autogluon import ObjectDetection as task"
      ],
      "execution_count": 0,
      "outputs": []
    },
    {
      "cell_type": "code",
      "metadata": {
        "id": "D8txyaMxTS7g",
        "colab_type": "code",
        "colab": {}
      },
      "source": [
        "root = './'\n",
        "filename_zip = ag.download('https://autogluon.s3.amazonaws.com/datasets/tiny_motorbike.zip',path=root)\n",
        "filename = ag.unzip(filename_zip, root=root)"
      ],
      "execution_count": 0,
      "outputs": []
    },
    {
      "cell_type": "code",
      "metadata": {
        "id": "YbKhWRxJYusA",
        "colab_type": "code",
        "colab": {}
      },
      "source": [
        "import os\n",
        "data_root = os.path.join(root, filename)\n",
        "dataset_train = task.Dataset(data_root, classes=('motorbike',))"
      ],
      "execution_count": 0,
      "outputs": []
    },
    {
      "cell_type": "code",
      "metadata": {
        "id": "h_tqPmxkY7yO",
        "colab_type": "code",
        "colab": {}
      },
      "source": [
        "time_limits = 5*60*60  # 5 hours\n",
        "epochs = 10\n",
        "detector = task.fit(dataset_train,\n",
        "                    num_trials=1,\n",
        "                    batch_size=8,\n",
        "                    epochs=epochs,\n",
        "                    lr=ag.Categorical(5e-4, 1e-4),\n",
        "                    ngpus_per_trial=1,\n",
        "                    time_limits=time_limits)"
      ],
      "execution_count": 0,
      "outputs": []
    },
    {
      "cell_type": "code",
      "metadata": {
        "id": "OtkScOLPdhpf",
        "colab_type": "code",
        "colab": {}
      },
      "source": [
        "dataset_test = task.Dataset(data_root, index_file_name='test', classes=('motorbike',))\n",
        "test_map = detector.evaluate(dataset_test)\n",
        "print(\"mAP on test dataset: {}\".format(test_map[1][1]))"
      ],
      "execution_count": 0,
      "outputs": []
    },
    {
      "cell_type": "code",
      "metadata": {
        "id": "PVB4Jyef0f1c",
        "colab_type": "code",
        "colab": {}
      },
      "source": [
        "image = '000873.jpg'\n",
        "image_path = os.path.join(data_root, 'JPEGImages', image)\n",
        "ind, prob, loc = detector.predict(image_path)"
      ],
      "execution_count": 0,
      "outputs": []
    },
    {
      "cell_type": "code",
      "metadata": {
        "id": "nwLRWTGQQipj",
        "colab_type": "code",
        "colab": {}
      },
      "source": [
        "from google.colab import files\n",
        "uploaded = files.upload()"
      ],
      "execution_count": 0,
      "outputs": []
    },
    {
      "cell_type": "markdown",
      "metadata": {
        "id": "jQn81NoFT-hW",
        "colab_type": "text"
      },
      "source": [
        "モデルのsaveとload"
      ]
    },
    {
      "cell_type": "code",
      "metadata": {
        "id": "sl_ZRKnwJ_z7",
        "colab_type": "code",
        "colab": {}
      },
      "source": [
        "from autogluon import Detector\n",
        "savefile = 'model.pkl'\n",
        "detector.save(savefile)"
      ],
      "execution_count": 0,
      "outputs": []
    },
    {
      "cell_type": "code",
      "metadata": {
        "id": "uHtjHO63KGPm",
        "colab_type": "code",
        "colab": {}
      },
      "source": [
        "load_detector = Detector.load(savefile)"
      ],
      "execution_count": 0,
      "outputs": []
    }
  ]
}